{
  "nbformat": 4,
  "nbformat_minor": 0,
  "metadata": {
    "colab": {
      "provenance": []
    },
    "kernelspec": {
      "name": "python3",
      "display_name": "Python 3"
    },
    "language_info": {
      "name": "python"
    }
  },
  "cells": [
    {
      "cell_type": "code",
      "source": [
        "from google.colab import drive\n",
        "drive.mount('/content/drive')"
      ],
      "metadata": {
        "colab": {
          "base_uri": "https://localhost:8080/"
        },
        "id": "Cy5MOWNtJSJw",
        "outputId": "01a00fe6-3819-45f5-cfeb-cf8a296141b3"
      },
      "execution_count": 1,
      "outputs": [
        {
          "output_type": "stream",
          "name": "stdout",
          "text": [
            "Mounted at /content/drive\n"
          ]
        }
      ]
    },
    {
      "cell_type": "code",
      "source": [
        "%cd /content/drive/MyDrive/CourseWork/23F/CS4635/hw3"
      ],
      "metadata": {
        "colab": {
          "base_uri": "https://localhost:8080/"
        },
        "id": "EWM2Z1_fJyoX",
        "outputId": "4be8c895-c69f-4814-ec8b-a247cf167cc8"
      },
      "execution_count": 2,
      "outputs": [
        {
          "output_type": "stream",
          "name": "stdout",
          "text": [
            "/content/drive/MyDrive/CourseWork/23F/CS4635/hw3\n"
          ]
        }
      ]
    },
    {
      "cell_type": "code",
      "execution_count": 12,
      "metadata": {
        "colab": {
          "base_uri": "https://localhost:8080/",
          "height": 144
        },
        "id": "P-Ct3j4GXNm4",
        "outputId": "521aabff-c92c-4274-923b-676172eefda7"
      },
      "outputs": [
        {
          "output_type": "error",
          "ename": "IndentationError",
          "evalue": "ignored",
          "traceback": [
            "\u001b[0;36m  File \u001b[0;32m\"<tokenize>\"\u001b[0;36m, line \u001b[0;32m46\u001b[0m\n\u001b[0;31m    def insert(self, node, instance, label):\u001b[0m\n\u001b[0m    ^\u001b[0m\n\u001b[0;31mIndentationError\u001b[0m\u001b[0;31m:\u001b[0m unindent does not match any outer indentation level\n"
          ]
        }
      ],
      "source": [
        "import json\n",
        "import random\n",
        "from collections import defaultdict\n",
        "class CobwebNode():\n",
        "  def __init__(self):\n",
        "    self.instance_count = 0\n",
        "    self.attribute_value = defaultdict(int)\n",
        "    self.children=[]\n",
        "    self.label = None # Label 이렇게 Initiate하는게 맞는지 확인 해보기\n",
        "\n",
        "  def increment(self, attribute, value):\n",
        "    self.attribute_value[(attribute, value)] += 1\n",
        "\n",
        "  def decrement(self, attribute, value):\n",
        "    self.attribute_value[(attribute, value)] -= 1\n",
        "\n",
        "class LearningSystem(object):\n",
        "\t\"\"\"\n",
        "\tSet up a learning system class, i.e., the approach you will apply.\n",
        "\tFeel free to create any functions under the class.\n",
        "\n",
        "\tTwo functions are REQUIRED:\n",
        "\t- LearningSystem.fit(train_set, train_labels)\n",
        "\t- LearningSystem.predict(instance)\n",
        "\t\"\"\"\n",
        "\n",
        "\tdef __init__(self):\n",
        "\t\t\"\"\"\n",
        "\t\tYou can have any other parameters here.\n",
        "\t\t\"\"\"\n",
        "\t\tself.root = CobwebNode()\n",
        "\n",
        "\n",
        "\tdef fit(self, train_set, train_labels):\n",
        "\t\t\"\"\"\n",
        "\t\tTrain the system with this function.\n",
        "\t\tDo NOT set any input variable other than train_set and train_labels for this function.\n",
        "\t\t========\n",
        "\t\ttrain_data: training data without labels. It should be a list of dictionaries.\n",
        "\t\ttrain_labels: A list of labels of training data. Each label has the same index as its data in train_data.\n",
        "\t\t\t\t\t  All labels are binary (0, 1).\n",
        "\t\t\"\"\"\n",
        "\t\tfor instance in train_set:\n",
        "      self.insert(self.root, instance)\n",
        "\n",
        "  def insert(self, node, instance, label):\n",
        "    node.instance_count +=1\n",
        "    for attribute, value in instance.items():\n",
        "      node.increment(attribute, value)\n",
        "\n",
        "    best_cu = -1\n",
        "    best_child = None\n",
        "\n",
        "    for child in node.children:\n",
        "      cu = concept_utility(node)\n",
        "      if cu > best_cu:\n",
        "        best_cu = cu\n",
        "        best_child = child\n",
        "\n",
        "    if best_child:\n",
        "      node.insert(best_child, instance, label)\n",
        "    else:\n",
        "      new_child = CobwebNode()\n",
        "      for attribute, value in instance.items():\n",
        "        new_child.increment(attribute, value)\n",
        "      new_child.instance_count = 1\n",
        "      new_child.label = label\n",
        "      node.children.append(new_child)\n",
        "\n",
        "  def concept_utility(node):\n",
        "    cu = 0\n",
        "    for (attribute, value), count in node.attribute_value.items():\n",
        "      prob = count / node.instance_count\n",
        "      cu += prob * (prob - 1/node.instance_count)\n",
        "    return cu\n",
        "\n",
        "\n",
        "\tdef predict(self, instance):\n",
        "\t\t\"\"\"\n",
        "\t\tPredict the label of an instance (a single dictionary) given.\n",
        "\t\t\"\"\"\n",
        "\t\treturn _predict_recursive(self.root, instance)\n",
        "\n",
        "  def _predict_recursive(self, node, instance):\n",
        "    if not node.children:\n",
        "      return node.label\n",
        "\n",
        "    best_cu = -1\n",
        "    best_child = None\n",
        "\n",
        "    for child in node.children:\n",
        "      cu = concept_utility(child)\n",
        "      if cu > best_cu:\n",
        "        best_cu = cu\n",
        "        best_child = child\n",
        "\n",
        "    return _predict_recursive(best_child, instance)\n",
        "\n",
        "\n",
        "# Then you need to make the separate define_model() function,\n",
        "# so you can have any initialized parameter defined.\n",
        "# Autograder will define the model object based on your define_model() function.\n",
        "def define_model():\n",
        "\treturn LearningSystem()\n",
        "\n",
        "\n",
        "\"\"\"\n",
        "The following codes are for testing with sample data only.\n",
        "REMEMBER TO REMOVE THEM BEFORE SUBMISSION.\n",
        "=============================================================================\n",
        "In this homework, a sample collection of shuffled data is provided.\n",
        "You might try with the data provided like in the following before submission:\n",
        "\"\"\"\n",
        "\n",
        "def test(model, test_set_data, test_labels):\n",
        "\tcorrect = 0\n",
        "\tfor i in range(len(test_set_data)):\n",
        "\t\tpred = model.predict(test_set_data[i])\n",
        "\t\tif pred == test_labels[i]:\n",
        "\t\t\tcorrect += 1\n",
        "\taccuracy = correct / len(test_set_data)\n",
        "\treturn accuracy"
      ]
    },
    {
      "cell_type": "code",
      "source": [],
      "metadata": {
        "id": "c9ub5ejTKruT"
      },
      "execution_count": null,
      "outputs": []
    },
    {
      "cell_type": "code",
      "source": [
        "sample_set_data = json.load(open('hw3-sample_set_data.json'))\n",
        "sample_set_labels = json.load(open('hw3-sample_set_labels.json'))\n",
        "\n",
        "train_set = sample_set_data[:-500]\n",
        "train_labels = sample_set_labels[:-500]\n",
        "test_set = sample_set_data[-500:]\n",
        "test_labels = sample_set_labels[-500:]\n",
        "\n",
        "model = define_model()\n",
        "model.fit(train_set, train_labels)\n",
        "print(\"Accuracy:\", test(model, test_set, test_labels))"
      ],
      "metadata": {
        "id": "5h8AqO4dKWyR"
      },
      "execution_count": null,
      "outputs": []
    }
  ]
}