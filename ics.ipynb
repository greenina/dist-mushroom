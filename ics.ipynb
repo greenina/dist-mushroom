{
  "cells": [
    {
      "cell_type": "code",
      "execution_count": 2,
      "metadata": {},
      "outputs": [],
      "source": [
        "import json\n",
        "import random\n",
        "from collections import defaultdict\n",
        "\n",
        "class LearningSystem(object):\n",
        "\t\"\"\"\n",
        "\tSet up a learning system class, i.e., the approach you will apply.\n",
        "\tFeel free to create any functions under the class.\n",
        "\n",
        "\tTwo functions are REQUIRED:\n",
        "\t- LearningSystem.fit(train_set, train_labels)\n",
        "\t- LearningSystem.predict(instance)\n",
        "\t\"\"\"\n",
        "\n",
        "\tdef __init__(self):\n",
        "\t\t\"\"\"\n",
        "\t\tYou can have any other parameters here.\n",
        "\t\t\"\"\"\n",
        "\t\tself.attribute_value = defaultdict(lambda: defaultdict(int))\n",
        "\n",
        "\n",
        "\tdef fit(self, train_set, train_labels):\n",
        "\t\t\"\"\"\n",
        "\t\tTrain the system with this function.\n",
        "\t\tDo NOT set any input variable other than train_set and train_labels for this function.\n",
        "\t\t========\n",
        "\t\ttrain_data: training data without labels. It should be a list of dictionaries.\n",
        "\t\ttrain_labels: A list of labels of training data. Each label has the same index as its data in train_data.\n",
        "\t\t\t\t\t  All labels are binary (0, 1).\n",
        "\t\t\"\"\"\n",
        "\t\tfor i, instance in enumerate(train_set):\n",
        "\t\t\tfor attr, value in instance.items():\n",
        "\t\t\t\tif train_labels[i] == 1:\n",
        "\t\t\t\t\tself.attribute_value[attr][value] += 1\n",
        "\t\t\t\telif train_labels[i] == 0:\n",
        "\t\t\t\t\tself.attribute_value[attr][value] -= 1\n",
        "\n",
        "\tdef predict(self, instance):\n",
        "\t\t\"\"\"\n",
        "\t\tPredict the label of an instance (a single dictionary) given.\n",
        "\t\t\"\"\"\n",
        "\t\tsum = 0\n",
        "\t\tfor attr, value in instance.items():\n",
        "\t\t\tsum += self.attribute_value[attr][value]\n",
        "\t\tif sum < 0:\n",
        "\t\t\treturn 0\n",
        "\t\treturn 1\n",
        "\n",
        "\n",
        "# Then you need to make the separate define_model() function,\n",
        "# so you can have any initialized parameter defined.\n",
        "# Autograder will define the model object based on your define_model() function.\n",
        "def define_model():\n",
        "\treturn LearningSystem()\n",
        "\n",
        "\n",
        "\"\"\"\n",
        "The following codes are for testing with sample data only.\n",
        "REMEMBER TO REMOVE THEM BEFORE SUBMISSION.\n",
        "=============================================================================\n",
        "In this homework, a sample collection of shuffled data is provided.\n",
        "You might try with the data provided like in the following before submission:\n",
        "\"\"\"\n",
        "\n",
        "def test(model, test_set_data, test_labels):\n",
        "\tcorrect = 0\n",
        "\tfor i in range(len(test_set_data)):\n",
        "\t\tpred = model.predict(test_set_data[i])\n",
        "\t\tif pred == test_labels[i]:\n",
        "\t\t\tcorrect += 1\n",
        "\taccuracy = correct / len(test_set_data)\n",
        "\treturn accuracy\n"
      ]
    },
    {
      "cell_type": "code",
      "execution_count": 4,
      "metadata": {},
      "outputs": [],
      "source": [
        "import json\n",
        "import random\n",
        "from collections import defaultdict\n",
        "\n",
        "class LearningSystem(object):\n",
        "    def __init__(self):\n",
        "        self.attribute_value = defaultdict(lambda: defaultdict(int))\n",
        "        self.attribute_weights = defaultdict(int)\n",
        "\n",
        "    def fit(self, train_set, train_labels):\n",
        "        for i, instance in enumerate(train_set):\n",
        "            for attr, value in instance.items():\n",
        "                if train_labels[i] == 1:\n",
        "                    self.attribute_value[attr][value] += 2\n",
        "                    if self.attribute_value[attr][value] > 0:\n",
        "                        self.attribute_weights[attr] += 1 \n",
        "                elif train_labels[i] == 0:\n",
        "                    self.attribute_value[attr][value] -= 1\n",
        "\n",
        "    def predict(self, instance):\n",
        "        weighted_sum = 0\n",
        "        for attr, value in instance.items():\n",
        "            weighted_sum += self.attribute_value[attr][value] * self.attribute_weights[attr]\n",
        "        if weighted_sum < 0:\n",
        "            return 0\n",
        "        return 1\n",
        "\n",
        "def define_model():\n",
        "    return LearningSystem()\n",
        "\n",
        "def test(model, test_set_data, test_labels):\n",
        "    correct = 0\n",
        "    for i in range(len(test_set_data)):\n",
        "        pred = model.predict(test_set_data[i])\n",
        "        if pred == test_labels[i]:\n",
        "            correct += 1\n",
        "    accuracy = correct / len(test_set_data)\n",
        "    return accuracy\n",
        "\n"
      ]
    },
    {
      "cell_type": "code",
      "execution_count": 5,
      "metadata": {},
      "outputs": [
        {
          "name": "stdout",
          "output_type": "stream",
          "text": [
            "Accuracy: 0.89\n"
          ]
        }
      ],
      "source": [
        "sample_set_data = json.load(open('hw3-sample_set_data.json'))\n",
        "sample_set_labels = json.load(open('hw3-sample_set_labels.json'))\n",
        "\n",
        "train_set = sample_set_data[:-500]\n",
        "train_labels = sample_set_labels[:-500]\n",
        "test_set = sample_set_data[-500:]\n",
        "test_labels = sample_set_labels[-500:]\n",
        "\n",
        "model = define_model()\n",
        "model.fit(train_set, train_labels)\n",
        "print(\"Accuracy:\", test(model, test_set, test_labels))\n"
      ]
    }
  ],
  "metadata": {
    "colab": {
      "provenance": []
    },
    "kernelspec": {
      "display_name": "Python 3.9.16 64-bit",
      "language": "python",
      "name": "python3"
    },
    "language_info": {
      "codemirror_mode": {
        "name": "ipython",
        "version": 3
      },
      "file_extension": ".py",
      "mimetype": "text/x-python",
      "name": "python",
      "nbconvert_exporter": "python",
      "pygments_lexer": "ipython3",
      "version": "3.9.16"
    },
    "vscode": {
      "interpreter": {
        "hash": "a665b5d41d17b532ea9890333293a1b812fa0b73c9c25c950b3cedf1bebd0438"
      }
    }
  },
  "nbformat": 4,
  "nbformat_minor": 0
}
