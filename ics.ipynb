{
  "cells": [
    {
      "cell_type": "code",
      "execution_count": 18,
      "metadata": {},
      "outputs": [],
      "source": [
        "import json\n",
        "import random\n",
        "from collections import defaultdict\n",
        "\n",
        "class LearningSystem(object):\n",
        "    def __init__(self):\n",
        "        self.attribute_value = defaultdict(lambda: defaultdict(int))\n",
        "        self.attribute_weights = defaultdict(int)\n",
        "\n",
        "    def fit(self, train_set, train_labels):\n",
        "        for i, instance in enumerate(train_set):\n",
        "            for attr, value in instance.items():\n",
        "                if train_labels[i] == 1:\n",
        "                    self.attribute_value[attr][value] += 1\n",
        "                    if self.attribute_value[attr][value] > 0:\n",
        "                        self.attribute_weights[attr] += 1 \n",
        "                elif train_labels[i] == 0:\n",
        "                    self.attribute_value[attr][value] -= 1\n",
        "\n",
        "    def predict(self, instance):\n",
        "        weighted_sum = 0\n",
        "        for attr, value in instance.items():\n",
        "            weighted_sum += self.attribute_value[attr][value] * self.attribute_weights[attr]\n",
        "        if weighted_sum < 0:\n",
        "            return 0\n",
        "        return 1\n",
        "\n",
        "def define_model():\n",
        "    return LearningSystem()\n",
        "\n",
        "def test(model, test_set_data, test_labels):\n",
        "    correct = 0\n",
        "    for i in range(len(test_set_data)):\n",
        "        pred = model.predict(test_set_data[i])\n",
        "        if pred == test_labels[i]:\n",
        "            correct += 1\n",
        "    accuracy = correct / len(test_set_data)\n",
        "    return accuracy\n",
        "\n"
      ]
    },
    {
      "cell_type": "code",
      "execution_count": 19,
      "metadata": {},
      "outputs": [
        {
          "name": "stdout",
          "output_type": "stream",
          "text": [
            "Accuracy: 0.89\n"
          ]
        }
      ],
      "source": [
        "sample_set_data = json.load(open('hw3-sample_set_data.json'))\n",
        "sample_set_labels = json.load(open('hw3-sample_set_labels.json'))\n",
        "\n",
        "train_set = sample_set_data[:-500]\n",
        "train_labels = sample_set_labels[:-500]\n",
        "test_set = sample_set_data[-500:]\n",
        "test_labels = sample_set_labels[-500:]\n",
        "\n",
        "model = define_model()\n",
        "model.fit(train_set, train_labels)\n",
        "print(\"Accuracy:\", test(model, test_set, test_labels))\n"
      ]
    }
  ],
  "metadata": {
    "colab": {
      "provenance": []
    },
    "kernelspec": {
      "display_name": "Python 3.9.16 64-bit",
      "language": "python",
      "name": "python3"
    },
    "language_info": {
      "codemirror_mode": {
        "name": "ipython",
        "version": 3
      },
      "file_extension": ".py",
      "mimetype": "text/x-python",
      "name": "python",
      "nbconvert_exporter": "python",
      "pygments_lexer": "ipython3",
      "version": "3.9.16"
    },
    "vscode": {
      "interpreter": {
        "hash": "a665b5d41d17b532ea9890333293a1b812fa0b73c9c25c950b3cedf1bebd0438"
      }
    }
  },
  "nbformat": 4,
  "nbformat_minor": 0
}
